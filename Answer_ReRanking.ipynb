{
  "nbformat": 4,
  "nbformat_minor": 0,
  "metadata": {
    "kernelspec": {
      "display_name": "ml_env",
      "language": "python",
      "name": "ml_env"
    },
    "language_info": {
      "codemirror_mode": {
        "name": "ipython",
        "version": 3
      },
      "file_extension": ".py",
      "mimetype": "text/x-python",
      "name": "python",
      "nbconvert_exporter": "python",
      "pygments_lexer": "ipython3",
      "version": "3.7.5"
    },
    "colab": {
      "name": "RankQANeural Question Answering with Answer ReRanking.ipynb",
      "provenance": []
    }
  },
  "cells": [
    {
      "cell_type": "code",
      "metadata": {
        "id": "CL988OU37oU5",
        "colab_type": "code",
        "colab": {}
      },
      "source": [
        "import pandas as pd\n",
        "import numpy as np\n",
        "import json\n",
        "import re\n",
        "from bs4 import BeautifulSoup\n",
        "import torch\n",
        "import nltk\n",
        "import ssl\n",
        "from nltk.corpus import stopwords\n",
        "import random\n",
        "import spacy\n",
        "import en_core_web_sm\n",
        "\n",
        "nlp = en_core_web_sm.load()"
      ],
      "execution_count": 0,
      "outputs": []
    },
    {
      "cell_type": "code",
      "metadata": {
        "id": "xGJIHLmk7oVD",
        "colab_type": "code",
        "colab": {}
      },
      "source": [
        "import nltk\n",
        "import ssl\n",
        "\n",
        "try:\n",
        "    _create_unverified_https_context = ssl._create_unverified_context\n",
        "except AttributeError:\n",
        "    pass\n",
        "else:\n",
        "    ssl._create_default_https_context = _create_unverified_https_context\n",
        "\n",
        "nltk.download('punkt')\n",
        "nltk.download('stopwords')"
      ],
      "execution_count": 0,
      "outputs": []
    },
    {
      "cell_type": "code",
      "metadata": {
        "id": "47wqlA167oVI",
        "colab_type": "code",
        "colab": {}
      },
      "source": [
        "sample_submission = pd.read_csv('tensorflow2-question-answering/sample_submission.csv')\n",
        "#simplifiednqtrain = pd.read_json('tensorflow2-question-answering/simplified-nq-train.jsonl', orient='records', lines=True, dtype={'example_id':np.dtype('object')})\n",
        "simplifiednqtest = pd.read_json('tensorflow2-question-answering/simplified-nq-test.jsonl', orient='records', lines=True, dtype={'example_id':np.dtype('object')})\n",
        "\n"
      ],
      "execution_count": 0,
      "outputs": []
    },
    {
      "cell_type": "code",
      "metadata": {
        "id": "gRQHFzoz7oVP",
        "colab_type": "code",
        "colab": {},
        "outputId": "25f9715d-e342-402e-9687-727692548fc6"
      },
      "source": [
        "simplifiednqtest.head()"
      ],
      "execution_count": 0,
      "outputs": [
        {
          "output_type": "execute_result",
          "data": {
            "text/html": [
              "<div>\n",
              "<style scoped>\n",
              "    .dataframe tbody tr th:only-of-type {\n",
              "        vertical-align: middle;\n",
              "    }\n",
              "\n",
              "    .dataframe tbody tr th {\n",
              "        vertical-align: top;\n",
              "    }\n",
              "\n",
              "    .dataframe thead th {\n",
              "        text-align: right;\n",
              "    }\n",
              "</style>\n",
              "<table border=\"1\" class=\"dataframe\">\n",
              "  <thead>\n",
              "    <tr style=\"text-align: right;\">\n",
              "      <th></th>\n",
              "      <th>example_id</th>\n",
              "      <th>question_text</th>\n",
              "      <th>document_text</th>\n",
              "      <th>long_answer_candidates</th>\n",
              "    </tr>\n",
              "  </thead>\n",
              "  <tbody>\n",
              "    <tr>\n",
              "      <th>0</th>\n",
              "      <td>-1220107454853145579</td>\n",
              "      <td>who is the south african high commissioner in ...</td>\n",
              "      <td>High Commission of South Africa , London - wik...</td>\n",
              "      <td>[{'end_token': 136, 'start_token': 18, 'top_le...</td>\n",
              "    </tr>\n",
              "    <tr>\n",
              "      <th>1</th>\n",
              "      <td>8777415633185303067</td>\n",
              "      <td>the office episode when they sing to michael</td>\n",
              "      <td>Michael 's Last Dundies - wikipedia &lt;H1&gt; Micha...</td>\n",
              "      <td>[{'end_token': 190, 'start_token': 23, 'top_le...</td>\n",
              "    </tr>\n",
              "    <tr>\n",
              "      <th>2</th>\n",
              "      <td>4640548859154538040</td>\n",
              "      <td>what is the main idea of the cross of gold speech</td>\n",
              "      <td>Cross of gold speech - wikipedia &lt;H1&gt; Cross of...</td>\n",
              "      <td>[{'end_token': 165, 'start_token': 12, 'top_le...</td>\n",
              "    </tr>\n",
              "    <tr>\n",
              "      <th>3</th>\n",
              "      <td>-5316095317154496261</td>\n",
              "      <td>when was i want to sing in opera written</td>\n",
              "      <td>Wilkie Bard - wikipedia &lt;H1&gt; Wilkie Bard &lt;/H1&gt;...</td>\n",
              "      <td>[{'end_token': 105, 'start_token': 8, 'top_lev...</td>\n",
              "    </tr>\n",
              "    <tr>\n",
              "      <th>4</th>\n",
              "      <td>-8752372642178983917</td>\n",
              "      <td>who does the voices in ice age collision course</td>\n",
              "      <td>Ice Age : Collision Course - Wikipedia &lt;H1&gt; Ic...</td>\n",
              "      <td>[{'end_token': 287, 'start_token': 16, 'top_le...</td>\n",
              "    </tr>\n",
              "  </tbody>\n",
              "</table>\n",
              "</div>"
            ],
            "text/plain": [
              "             example_id                                      question_text  \\\n",
              "0  -1220107454853145579  who is the south african high commissioner in ...   \n",
              "1   8777415633185303067       the office episode when they sing to michael   \n",
              "2   4640548859154538040  what is the main idea of the cross of gold speech   \n",
              "3  -5316095317154496261           when was i want to sing in opera written   \n",
              "4  -8752372642178983917    who does the voices in ice age collision course   \n",
              "\n",
              "                                       document_text  \\\n",
              "0  High Commission of South Africa , London - wik...   \n",
              "1  Michael 's Last Dundies - wikipedia <H1> Micha...   \n",
              "2  Cross of gold speech - wikipedia <H1> Cross of...   \n",
              "3  Wilkie Bard - wikipedia <H1> Wilkie Bard </H1>...   \n",
              "4  Ice Age : Collision Course - Wikipedia <H1> Ic...   \n",
              "\n",
              "                              long_answer_candidates  \n",
              "0  [{'end_token': 136, 'start_token': 18, 'top_le...  \n",
              "1  [{'end_token': 190, 'start_token': 23, 'top_le...  \n",
              "2  [{'end_token': 165, 'start_token': 12, 'top_le...  \n",
              "3  [{'end_token': 105, 'start_token': 8, 'top_lev...  \n",
              "4  [{'end_token': 287, 'start_token': 16, 'top_le...  "
            ]
          },
          "metadata": {
            "tags": []
          },
          "execution_count": 280
        }
      ]
    },
    {
      "cell_type": "code",
      "metadata": {
        "id": "fHR-Vy307oVW",
        "colab_type": "code",
        "colab": {}
      },
      "source": [
        "json_train_head = []\n",
        "N_HEAD = 307373\n",
        "\n",
        "with open('tensorflow2-question-answering/simplified-nq-train.jsonl', 'rt') as f:\n",
        "    for i in range(N_HEAD):\n",
        "        json_train_head.append(json.loads(f.readline()))"
      ],
      "execution_count": 0,
      "outputs": []
    },
    {
      "cell_type": "code",
      "metadata": {
        "id": "Vo6grC6r7oVc",
        "colab_type": "code",
        "colab": {}
      },
      "source": [
        "W2V_PATH = 'fastText/crawl-300d-2M.vec'"
      ],
      "execution_count": 0,
      "outputs": []
    },
    {
      "cell_type": "code",
      "metadata": {
        "id": "RMHRO4KD7oVg",
        "colab_type": "code",
        "colab": {}
      },
      "source": [
        "import io\n",
        "\n",
        "def load_vectors(fname):\n",
        "    fin = io.open(fname, 'r', encoding='utf-8', newline='\\n', errors='ignore')\n",
        "    n, d = map(int, fin.readline().split())\n",
        "    data = {}\n",
        "    for line in fin:\n",
        "        tokens = line.rstrip().split(' ')\n",
        "        data[tokens[0]] = np.asarray(tokens[1:], dtype=np.float32)\n",
        "    return data"
      ],
      "execution_count": 0,
      "outputs": []
    },
    {
      "cell_type": "code",
      "metadata": {
        "id": "xRP6S4c-7oVl",
        "colab_type": "code",
        "colab": {}
      },
      "source": [
        "vectors = load_vectors(W2V_PATH)"
      ],
      "execution_count": 0,
      "outputs": []
    },
    {
      "cell_type": "code",
      "metadata": {
        "id": "n6S9pANK7oVo",
        "colab_type": "code",
        "colab": {}
      },
      "source": [
        "simplifiednqtrain = pd.DataFrame(json_train_head)"
      ],
      "execution_count": 0,
      "outputs": []
    },
    {
      "cell_type": "code",
      "metadata": {
        "id": "oGgj0oyr7oVs",
        "colab_type": "code",
        "colab": {},
        "outputId": "25ce0d9d-8d73-4fb5-8dfa-d5997cd0d65a"
      },
      "source": [
        "simplifiednqtrain.head()"
      ],
      "execution_count": 0,
      "outputs": [
        {
          "output_type": "execute_result",
          "data": {
            "text/html": [
              "<div>\n",
              "<style scoped>\n",
              "    .dataframe tbody tr th:only-of-type {\n",
              "        vertical-align: middle;\n",
              "    }\n",
              "\n",
              "    .dataframe tbody tr th {\n",
              "        vertical-align: top;\n",
              "    }\n",
              "\n",
              "    .dataframe thead th {\n",
              "        text-align: right;\n",
              "    }\n",
              "</style>\n",
              "<table border=\"1\" class=\"dataframe\">\n",
              "  <thead>\n",
              "    <tr style=\"text-align: right;\">\n",
              "      <th></th>\n",
              "      <th>document_text</th>\n",
              "      <th>long_answer_candidates</th>\n",
              "      <th>question_text</th>\n",
              "      <th>annotations</th>\n",
              "      <th>document_url</th>\n",
              "      <th>example_id</th>\n",
              "    </tr>\n",
              "  </thead>\n",
              "  <tbody>\n",
              "    <tr>\n",
              "      <th>0</th>\n",
              "      <td>Email marketing - Wikipedia &lt;H1&gt; Email marketi...</td>\n",
              "      <td>[{'start_token': 14, 'top_level': True, 'end_t...</td>\n",
              "      <td>which is the most common use of opt-in e-mail ...</td>\n",
              "      <td>[{'yes_no_answer': 'NONE', 'long_answer': {'st...</td>\n",
              "      <td>https://en.wikipedia.org//w/index.php?title=Em...</td>\n",
              "      <td>5655493461695504401</td>\n",
              "    </tr>\n",
              "    <tr>\n",
              "      <th>1</th>\n",
              "      <td>The Mother ( How I Met Your Mother ) - wikiped...</td>\n",
              "      <td>[{'start_token': 28, 'top_level': True, 'end_t...</td>\n",
              "      <td>how i.met your mother who is the mother</td>\n",
              "      <td>[{'yes_no_answer': 'NONE', 'long_answer': {'st...</td>\n",
              "      <td>https://en.wikipedia.org//w/index.php?title=Th...</td>\n",
              "      <td>5328212470870865242</td>\n",
              "    </tr>\n",
              "    <tr>\n",
              "      <th>2</th>\n",
              "      <td>Human fertilization - wikipedia &lt;H1&gt; Human fer...</td>\n",
              "      <td>[{'start_token': 14, 'top_level': True, 'end_t...</td>\n",
              "      <td>what type of fertilisation takes place in humans</td>\n",
              "      <td>[{'yes_no_answer': 'NONE', 'long_answer': {'st...</td>\n",
              "      <td>https://en.wikipedia.org//w/index.php?title=Hu...</td>\n",
              "      <td>4435104480114867852</td>\n",
              "    </tr>\n",
              "    <tr>\n",
              "      <th>3</th>\n",
              "      <td>List of National Football League career quarte...</td>\n",
              "      <td>[{'start_token': 28, 'top_level': True, 'end_t...</td>\n",
              "      <td>who had the most wins in the nfl</td>\n",
              "      <td>[{'yes_no_answer': 'NONE', 'long_answer': {'st...</td>\n",
              "      <td>https://en.wikipedia.org//w/index.php?title=Li...</td>\n",
              "      <td>5289242154789678439</td>\n",
              "    </tr>\n",
              "    <tr>\n",
              "      <th>4</th>\n",
              "      <td>Roanoke Colony - wikipedia &lt;H1&gt; Roanoke Colony...</td>\n",
              "      <td>[{'start_token': 32, 'top_level': True, 'end_t...</td>\n",
              "      <td>what happened to the lost settlement of roanoke</td>\n",
              "      <td>[{'yes_no_answer': 'NONE', 'long_answer': {'st...</td>\n",
              "      <td>https://en.wikipedia.org//w/index.php?title=Ro...</td>\n",
              "      <td>5489863933082811018</td>\n",
              "    </tr>\n",
              "  </tbody>\n",
              "</table>\n",
              "</div>"
            ],
            "text/plain": [
              "                                       document_text  \\\n",
              "0  Email marketing - Wikipedia <H1> Email marketi...   \n",
              "1  The Mother ( How I Met Your Mother ) - wikiped...   \n",
              "2  Human fertilization - wikipedia <H1> Human fer...   \n",
              "3  List of National Football League career quarte...   \n",
              "4  Roanoke Colony - wikipedia <H1> Roanoke Colony...   \n",
              "\n",
              "                              long_answer_candidates  \\\n",
              "0  [{'start_token': 14, 'top_level': True, 'end_t...   \n",
              "1  [{'start_token': 28, 'top_level': True, 'end_t...   \n",
              "2  [{'start_token': 14, 'top_level': True, 'end_t...   \n",
              "3  [{'start_token': 28, 'top_level': True, 'end_t...   \n",
              "4  [{'start_token': 32, 'top_level': True, 'end_t...   \n",
              "\n",
              "                                       question_text  \\\n",
              "0  which is the most common use of opt-in e-mail ...   \n",
              "1            how i.met your mother who is the mother   \n",
              "2   what type of fertilisation takes place in humans   \n",
              "3                   who had the most wins in the nfl   \n",
              "4    what happened to the lost settlement of roanoke   \n",
              "\n",
              "                                         annotations  \\\n",
              "0  [{'yes_no_answer': 'NONE', 'long_answer': {'st...   \n",
              "1  [{'yes_no_answer': 'NONE', 'long_answer': {'st...   \n",
              "2  [{'yes_no_answer': 'NONE', 'long_answer': {'st...   \n",
              "3  [{'yes_no_answer': 'NONE', 'long_answer': {'st...   \n",
              "4  [{'yes_no_answer': 'NONE', 'long_answer': {'st...   \n",
              "\n",
              "                                        document_url           example_id  \n",
              "0  https://en.wikipedia.org//w/index.php?title=Em...  5655493461695504401  \n",
              "1  https://en.wikipedia.org//w/index.php?title=Th...  5328212470870865242  \n",
              "2  https://en.wikipedia.org//w/index.php?title=Hu...  4435104480114867852  \n",
              "3  https://en.wikipedia.org//w/index.php?title=Li...  5289242154789678439  \n",
              "4  https://en.wikipedia.org//w/index.php?title=Ro...  5489863933082811018  "
            ]
          },
          "metadata": {
            "tags": []
          },
          "execution_count": 8
        }
      ]
    },
    {
      "cell_type": "code",
      "metadata": {
        "id": "zulGbbhV7oVx",
        "colab_type": "code",
        "colab": {}
      },
      "source": [
        "del simplifiednqtrain, train_\n",
        "import gc\n",
        "gc.collect()"
      ],
      "execution_count": 0,
      "outputs": []
    },
    {
      "cell_type": "code",
      "metadata": {
        "id": "I7ztwTWt7oV0",
        "colab_type": "code",
        "colab": {}
      },
      "source": [
        "train_ = simplifiednqtrain[simplifiednqtrain['annotations'].apply(lambda x: x[0]['long_answer']['start_token']!=-1)]"
      ],
      "execution_count": 0,
      "outputs": []
    },
    {
      "cell_type": "code",
      "metadata": {
        "id": "_8XyNu3l7oV5",
        "colab_type": "code",
        "colab": {}
      },
      "source": [
        "train_ = train_.reset_index(drop=True)"
      ],
      "execution_count": 0,
      "outputs": []
    },
    {
      "cell_type": "code",
      "metadata": {
        "id": "UxsExF3Q7oV-",
        "colab_type": "code",
        "colab": {},
        "outputId": "52d92666-b7ab-41f3-f081-9ffe62d409d3"
      },
      "source": [
        "train_.head()"
      ],
      "execution_count": 0,
      "outputs": [
        {
          "output_type": "execute_result",
          "data": {
            "text/html": [
              "<div>\n",
              "<style scoped>\n",
              "    .dataframe tbody tr th:only-of-type {\n",
              "        vertical-align: middle;\n",
              "    }\n",
              "\n",
              "    .dataframe tbody tr th {\n",
              "        vertical-align: top;\n",
              "    }\n",
              "\n",
              "    .dataframe thead th {\n",
              "        text-align: right;\n",
              "    }\n",
              "</style>\n",
              "<table border=\"1\" class=\"dataframe\">\n",
              "  <thead>\n",
              "    <tr style=\"text-align: right;\">\n",
              "      <th></th>\n",
              "      <th>document_text</th>\n",
              "      <th>long_answer_candidates</th>\n",
              "      <th>question_text</th>\n",
              "      <th>annotations</th>\n",
              "      <th>document_url</th>\n",
              "      <th>example_id</th>\n",
              "    </tr>\n",
              "  </thead>\n",
              "  <tbody>\n",
              "    <tr>\n",
              "      <th>0</th>\n",
              "      <td>Email marketing - Wikipedia &lt;H1&gt; Email marketi...</td>\n",
              "      <td>[{'start_token': 14, 'top_level': True, 'end_t...</td>\n",
              "      <td>which is the most common use of opt-in e-mail ...</td>\n",
              "      <td>[{'yes_no_answer': 'NONE', 'long_answer': {'st...</td>\n",
              "      <td>https://en.wikipedia.org//w/index.php?title=Em...</td>\n",
              "      <td>5655493461695504401</td>\n",
              "    </tr>\n",
              "    <tr>\n",
              "      <th>1</th>\n",
              "      <td>The Mother ( How I Met Your Mother ) - wikiped...</td>\n",
              "      <td>[{'start_token': 28, 'top_level': True, 'end_t...</td>\n",
              "      <td>how i.met your mother who is the mother</td>\n",
              "      <td>[{'yes_no_answer': 'NONE', 'long_answer': {'st...</td>\n",
              "      <td>https://en.wikipedia.org//w/index.php?title=Th...</td>\n",
              "      <td>5328212470870865242</td>\n",
              "    </tr>\n",
              "    <tr>\n",
              "      <th>2</th>\n",
              "      <td>Human fertilization - wikipedia &lt;H1&gt; Human fer...</td>\n",
              "      <td>[{'start_token': 14, 'top_level': True, 'end_t...</td>\n",
              "      <td>what type of fertilisation takes place in humans</td>\n",
              "      <td>[{'yes_no_answer': 'NONE', 'long_answer': {'st...</td>\n",
              "      <td>https://en.wikipedia.org//w/index.php?title=Hu...</td>\n",
              "      <td>4435104480114867852</td>\n",
              "    </tr>\n",
              "    <tr>\n",
              "      <th>3</th>\n",
              "      <td>List of National Football League career quarte...</td>\n",
              "      <td>[{'start_token': 28, 'top_level': True, 'end_t...</td>\n",
              "      <td>who had the most wins in the nfl</td>\n",
              "      <td>[{'yes_no_answer': 'NONE', 'long_answer': {'st...</td>\n",
              "      <td>https://en.wikipedia.org//w/index.php?title=Li...</td>\n",
              "      <td>5289242154789678439</td>\n",
              "    </tr>\n",
              "    <tr>\n",
              "      <th>4</th>\n",
              "      <td>Pom Klementieff - wikipedia &lt;H1&gt; Pom Klementie...</td>\n",
              "      <td>[{'start_token': 14, 'top_level': True, 'end_t...</td>\n",
              "      <td>who played mantis guardians of the galaxy 2</td>\n",
              "      <td>[{'yes_no_answer': 'NONE', 'long_answer': {'st...</td>\n",
              "      <td>https://en.wikipedia.org//w/index.php?title=Po...</td>\n",
              "      <td>-2500044561429484630</td>\n",
              "    </tr>\n",
              "  </tbody>\n",
              "</table>\n",
              "</div>"
            ],
            "text/plain": [
              "                                       document_text  \\\n",
              "0  Email marketing - Wikipedia <H1> Email marketi...   \n",
              "1  The Mother ( How I Met Your Mother ) - wikiped...   \n",
              "2  Human fertilization - wikipedia <H1> Human fer...   \n",
              "3  List of National Football League career quarte...   \n",
              "4  Pom Klementieff - wikipedia <H1> Pom Klementie...   \n",
              "\n",
              "                              long_answer_candidates  \\\n",
              "0  [{'start_token': 14, 'top_level': True, 'end_t...   \n",
              "1  [{'start_token': 28, 'top_level': True, 'end_t...   \n",
              "2  [{'start_token': 14, 'top_level': True, 'end_t...   \n",
              "3  [{'start_token': 28, 'top_level': True, 'end_t...   \n",
              "4  [{'start_token': 14, 'top_level': True, 'end_t...   \n",
              "\n",
              "                                       question_text  \\\n",
              "0  which is the most common use of opt-in e-mail ...   \n",
              "1            how i.met your mother who is the mother   \n",
              "2   what type of fertilisation takes place in humans   \n",
              "3                   who had the most wins in the nfl   \n",
              "4        who played mantis guardians of the galaxy 2   \n",
              "\n",
              "                                         annotations  \\\n",
              "0  [{'yes_no_answer': 'NONE', 'long_answer': {'st...   \n",
              "1  [{'yes_no_answer': 'NONE', 'long_answer': {'st...   \n",
              "2  [{'yes_no_answer': 'NONE', 'long_answer': {'st...   \n",
              "3  [{'yes_no_answer': 'NONE', 'long_answer': {'st...   \n",
              "4  [{'yes_no_answer': 'NONE', 'long_answer': {'st...   \n",
              "\n",
              "                                        document_url           example_id  \n",
              "0  https://en.wikipedia.org//w/index.php?title=Em...  5655493461695504401  \n",
              "1  https://en.wikipedia.org//w/index.php?title=Th...  5328212470870865242  \n",
              "2  https://en.wikipedia.org//w/index.php?title=Hu...  4435104480114867852  \n",
              "3  https://en.wikipedia.org//w/index.php?title=Li...  5289242154789678439  \n",
              "4  https://en.wikipedia.org//w/index.php?title=Po... -2500044561429484630  "
            ]
          },
          "metadata": {
            "tags": []
          },
          "execution_count": 11
        }
      ]
    },
    {
      "cell_type": "code",
      "metadata": {
        "id": "rX6X4mUw7oWH",
        "colab_type": "code",
        "colab": {}
      },
      "source": [
        "html_tags = ['<P>', '</P>', '<Table>', '</Table>', '<Tr>', '</Tr>', '<Ul>', '<Ol>', '<Dl>', '</Ul>', '</Ol>', \\\n",
        "             '</Dl>', '<Li>', '<Dd>', '<Dt>', '</Li>', '</Dd>', '</Dt>', '</S>', '<S>',  '<H1>', '</H1>', '</Td>', '<Td>']\n",
        "r_buf = ['is', 'are', 'do', 'does', 'did', 'was', 'were', 'will', 'can', 'the', 'a', 'an', 'of', 'in', 'and', 'on', \\\n",
        "         'what', 'where', 'when', 'which']\n",
        "\n",
        "\n",
        "def clean(x, stop_words=[]):\n",
        "    x = x.lower()\n",
        "    TAG_RE = re.compile(r'<[^>]+>')\n",
        "    x = TAG_RE.sub('', x)\n",
        "    return x.strip()"
      ],
      "execution_count": 0,
      "outputs": []
    },
    {
      "cell_type": "code",
      "metadata": {
        "id": "ZoIdrfq37oWW",
        "colab_type": "code",
        "colab": {}
      },
      "source": [
        "msk = np.random.rand(len(train_)) < 0.95"
      ],
      "execution_count": 0,
      "outputs": []
    },
    {
      "cell_type": "code",
      "metadata": {
        "id": "n21roqCz7oWb",
        "colab_type": "code",
        "colab": {}
      },
      "source": [
        "train_data = train_[msk][0:50000]"
      ],
      "execution_count": 0,
      "outputs": []
    },
    {
      "cell_type": "code",
      "metadata": {
        "id": "e5IxQTbC7oWf",
        "colab_type": "code",
        "colab": {}
      },
      "source": [
        "validate_data = train_[~msk][0:1000]"
      ],
      "execution_count": 0,
      "outputs": []
    },
    {
      "cell_type": "code",
      "metadata": {
        "id": "7CpFnPQU7oWi",
        "colab_type": "code",
        "colab": {}
      },
      "source": [
        "def create_train_dataset(df = train_data):\n",
        "    example_id = []\n",
        "    document_text = []\n",
        "    answer_candidate = []\n",
        "    target = []\n",
        "    question_text = []\n",
        "    level_type = []\n",
        "    for i in df[['document_text', 'long_answer_candidates', 'question_text','annotations', 'example_id']].values:\n",
        "        text_split = i[0]\n",
        "        example_id.append(i[-1])\n",
        "        text_split_cl = clean(text_split)\n",
        "        document_text.append(text_split_cl)\n",
        "        question_text.append(i[2].strip())\n",
        "        index_start_true = i[3][0]['long_answer']['start_token']\n",
        "        index_end_true = i[3][0]['long_answer']['end_token']\n",
        "        \n",
        "        text_splited = text_split.split(' ')\n",
        "        ansC = clean(' '.join(text_splited[index_start_true : index_end_true]))\n",
        "        answer_candidate.append(ansC)\n",
        "        target.append(1)\n",
        "        num_pos = [[k, x] for k, x in enumerate(i[1]) \n",
        "                   if x['start_token'] == index_start_true and x['end_token'] == index_end_true][0]\n",
        "        num = num_pos[0]\n",
        "        level_type.append(int(num_pos[1]['top_level']))\n",
        "        \n",
        "        for j in range(0, 5):\n",
        "            choice_ind = [x for x in range(0, len(i[1])-1) if x!=num]\n",
        "            if choice_ind:\n",
        "                example_id.append(i[-1])\n",
        "                document_text.append(text_split_cl)\n",
        "                question_text.append(i[2].strip())\n",
        "                k = random.choice(choice_ind)\n",
        "                index_start = i[1][k]['start_token']\n",
        "                index_end = i[1][k]['end_token']\n",
        "                        \n",
        "                strr = clean(' '.join(text_splited[index_start : index_end]))\n",
        "                answer_candidate.append(strr)\n",
        "                level_type.append(int(i[1][k]['top_level']))\n",
        "                target.append(0)\n",
        "              \n",
        "    train = pd.DataFrame()\n",
        "    train['example_id'] = example_id\n",
        "    train['target'] = target\n",
        "    train['answer_candidate'] = answer_candidate\n",
        "    train['document_text'] = document_text\n",
        "    train['question_text'] = question_text\n",
        "    train['level_type'] = level_type\n",
        "    \n",
        "    return train"
      ],
      "execution_count": 0,
      "outputs": []
    },
    {
      "cell_type": "code",
      "metadata": {
        "id": "Wen2R95h7oWl",
        "colab_type": "code",
        "colab": {}
      },
      "source": [
        "def create_test_dataset(df=validate_data):\n",
        "    example_id = []\n",
        "    document_text = []\n",
        "    answer_candidate = []\n",
        "    target = []\n",
        "    question_text = []\n",
        "    level_type = []\n",
        "    for i in df[['document_text', 'long_answer_candidates', 'question_text','annotations', 'example_id']].values:\n",
        "        text_split = i[0]\n",
        "        text_splited = text_split.split(' ')\n",
        "        example_id.append(i[-1])\n",
        "        text_split_cl = clean(text_split)\n",
        "        document_text.append(text_split_cl)\n",
        "        question_text.append(i[2].strip())\n",
        "        index_start_true = i[3][0]['long_answer']['start_token']\n",
        "        index_end_true = i[3][0]['long_answer']['end_token']\n",
        "        ansC = clean(' '.join(text_splited[index_start_true : index_end_true]))\n",
        "        answer_candidate.append(ansC)\n",
        "        target.append(1)\n",
        "        num_pos = [[k, x] for k, x in enumerate(i[1]) \n",
        "                   if x['start_token'] == index_start_true and x['end_token'] == index_end_true][0]\n",
        "        level_type.append(int(num_pos[1]['top_level']))\n",
        "        \n",
        "        for j in i[1]:\n",
        "            index_start = j['start_token']\n",
        "            index_end = j['end_token']\n",
        "            if index_start!=index_start_true and index_end!=index_end_true:\n",
        "                example_id.append(i[-1])\n",
        "                document_text.append(text_split_cl)\n",
        "                question_text.append(i[2].strip())\n",
        "                strr = clean(' '.join(text_splited[index_start : index_end]))\n",
        "                answer_candidate.append(strr)\n",
        "                level_type.append(int(j['top_level']))\n",
        "                target.append(0)\n",
        "               \n",
        "    test = pd.DataFrame()\n",
        "    test['example_id'] = example_id\n",
        "    test['target'] = target\n",
        "    test['answer_candidate'] = answer_candidate\n",
        "    test['document_text'] = document_text\n",
        "    test['question_text'] = question_text\n",
        "    test['level_type'] = level_type\n",
        "    \n",
        "    return test\n",
        "    "
      ],
      "execution_count": 0,
      "outputs": []
    },
    {
      "cell_type": "code",
      "metadata": {
        "id": "R3EVQZg57oWt",
        "colab_type": "code",
        "colab": {}
      },
      "source": [
        "train_data = create_train_dataset(train_data)\n",
        "validate_data = create_test_dataset(validate_data)"
      ],
      "execution_count": 0,
      "outputs": []
    },
    {
      "cell_type": "code",
      "metadata": {
        "id": "GVAS-MVw7oW0",
        "colab_type": "code",
        "colab": {},
        "outputId": "437a843b-5f7e-4c24-c235-135546e195d4"
      },
      "source": [
        "train_data.shape, validate_data.shape"
      ],
      "execution_count": 0,
      "outputs": [
        {
          "output_type": "execute_result",
          "data": {
            "text/plain": [
              "((299630, 6), (131937, 6))"
            ]
          },
          "metadata": {
            "tags": []
          },
          "execution_count": 159
        }
      ]
    },
    {
      "cell_type": "code",
      "metadata": {
        "id": "gfM9bHlA7oW4",
        "colab_type": "code",
        "colab": {}
      },
      "source": [
        "def preprocess(raw_text):\n",
        "    return raw_text.lower().split(' ')"
      ],
      "execution_count": 0,
      "outputs": []
    },
    {
      "cell_type": "code",
      "metadata": {
        "id": "ILALjZg97oW6",
        "colab_type": "code",
        "colab": {}
      },
      "source": [
        "def get_embeddings(s1):\n",
        "    vector_1 = [vectors[word] if (word and word in vectors.keys()) else np.zeros(300,) for word in preprocess(s1)]\n",
        "    return vector_1"
      ],
      "execution_count": 0,
      "outputs": []
    },
    {
      "cell_type": "code",
      "metadata": {
        "id": "MhxZB3lQ7oW9",
        "colab_type": "code",
        "colab": {}
      },
      "source": [
        "def get_embeddings_avg(s1):\n",
        "    vector_1 = get_embeddings(s1)\n",
        "    vector_1_mean = np.mean(vector_1, axis=0)\n",
        "    return vector_1_mean"
      ],
      "execution_count": 0,
      "outputs": []
    },
    {
      "cell_type": "code",
      "metadata": {
        "id": "9plRbhl97oXD",
        "colab_type": "code",
        "colab": {}
      },
      "source": [
        "from scipy.spatial import distance\n",
        "    \n",
        "def cos_sim(s1, s2):\n",
        "    cosine = distance.cosine(s1, s2)\n",
        "    return cosine"
      ],
      "execution_count": 0,
      "outputs": []
    },
    {
      "cell_type": "code",
      "metadata": {
        "id": "unlS6vGK7oXJ",
        "colab_type": "code",
        "colab": {}
      },
      "source": [
        "def get_jaccard_sim(str1, str2):\n",
        "    a = set(str1)  # .split())\n",
        "    b = set(str2)  # .split())\n",
        "    c = a.intersection(b)\n",
        "    return float(len(c)) / (len(a) + len(b) - len(c))"
      ],
      "execution_count": 0,
      "outputs": []
    },
    {
      "cell_type": "code",
      "metadata": {
        "id": "tkXhTbXt7oXO",
        "colab_type": "code",
        "colab": {}
      },
      "source": [
        "Q_TYPE = {'what was': 0, 'what is': 1, 'what': 2, 'in what': 3, 'in which': 4, 'in': 5,\n",
        "          'when': 6, 'where': 7, 'who': 8, 'why': 9, 'which': 10, 'is': 11, 'other': 12}\n",
        "\n",
        "\n",
        "def get_question_type_features(sample):\n",
        "    vec = np.zeros(len(Q_TYPE))\n",
        "    qwords = sample.split(' ')\n",
        "    other = True\n",
        "    if qwords[0].lower() in Q_TYPE:\n",
        "        vec[Q_TYPE[qwords[0].lower()]] = 1\n",
        "        other = False\n",
        "    if ' '.join(list(map(lambda x: x.lower(), qwords[0:2]))) in Q_TYPE:\n",
        "        vec[Q_TYPE[' '.join(list(map(lambda x: x.lower(), qwords[0:2])))]] = 1\n",
        "        other = False\n",
        "    if other:\n",
        "        vec[Q_TYPE['other']] = 1\n",
        "    return vec"
      ],
      "execution_count": 0,
      "outputs": []
    },
    {
      "cell_type": "code",
      "metadata": {
        "id": "1R9URMkn7oXS",
        "colab_type": "code",
        "colab": {}
      },
      "source": [
        "NER_DICT = {'gpe': 0, 'person': 1, 'org': 2, 'money': 3, 'percent': 4, 'date': 5, 'time': 6, \n",
        "            'quantity': 7, 'cardinal': 8, 'ordinal': 9, 'fac':10, 'norp':11, 'loc':12, 'product':13, 'event':14, \n",
        "           'work_of_art':15, 'law':16, 'language':17}\n",
        "\n",
        "\n",
        "def get_ner_features(span_ner):\n",
        "    vec = np.zeros(len(NER_DICT))\n",
        "    for ner in span_ner:\n",
        "        vec[NER_DICT[ner.lower()]] = 1\n",
        "    return vec"
      ],
      "execution_count": 0,
      "outputs": []
    },
    {
      "cell_type": "code",
      "metadata": {
        "id": "Wc2_qqiV7oXU",
        "colab_type": "code",
        "colab": {}
      },
      "source": [
        "POS_DICT = {'NNP': 0, 'JJ': 1, 'NN': 2, 'IN': 3, ',': 4, 'CC': 5, 'DT': 6, 'VBG': 7, 'VB': 8, 'NNS': 9, 'POS': 10,\n",
        "            'VBZ': 11, 'RB': 12, 'TO': 13, 'FW': 14, 'PRP$': 15, 'CD': 16, 'VBN': 17, 'NNPS': 18, 'JJR': 19, 'VBP': 20,\n",
        "            ':': 21, 'VBD': 22, 'PRP': 23, '#': 24, 'JJS': 25, '$': 26, 'WRB': 27, '-LRB-': 28, '-RRB-': 29, '.': 30,\n",
        "            '``': 31, \"''\": 32, 'PDT': 33, 'MD': 34, 'WP': 35, 'RP': 36, 'WDT': 37, 'EX': 38, 'UH': 39, 'SYM': 40,\n",
        "            'LS': 41, 'RBS': 42, 'RBR': 43, 'WP$': 44, 'ADD':45, 'AFX':46,'GW':47, 'HYPH':48, 'NFR':49, 'NIL':50, 'SP':51,\n",
        "            'XX':52, '_SP':53, 'NFP':54}\n",
        "\n",
        "\n",
        "def get_pos_features(span_pos):\n",
        "    vec = np.zeros(len(POS_DICT))\n",
        "    for pos in span_pos:\n",
        "        vec[POS_DICT[pos]] = 1\n",
        "    return vec\n"
      ],
      "execution_count": 0,
      "outputs": []
    },
    {
      "cell_type": "code",
      "metadata": {
        "id": "AhkwxiwX7oXZ",
        "colab_type": "code",
        "colab": {},
        "outputId": "79f227a5-6954-46e2-bb64-d31ca46e3650"
      },
      "source": [
        "%%time\n",
        "a_q_SIM = []\n",
        "doc_q_SIM = []\n",
        "len_a = []\n",
        "len_q = []\n",
        "q_type = []\n",
        "ents_vec = []\n",
        "pos_vec = []\n",
        "\n",
        "for i in train_data[['answer_candidate', 'question_text', 'document_text', 'target']].values:\n",
        "    if i[3] == 1:\n",
        "        qq_type = get_question_type_features(i[2])\n",
        "        len_qq = len(i[1].split(' '))\n",
        "    en_a = nlp(i[0])\n",
        "    all_ent = [ent.label_.lower() for ent in en_a.ents]\n",
        "    all_pos = [ent.tag_ for ent in en_a]\n",
        "    ner_f = get_ner_features(all_ent)\n",
        "    ents_vec.append(ner_f)\n",
        "    pos_f = get_pos_features(all_pos)\n",
        "    pos_vec.append(pos_f)\n",
        "    aq_f = get_jaccard_sim(i[0], i[1])\n",
        "    dq_f = get_jaccard_sim(i[2], i[1])\n",
        "    a_q_SIM.append(aq_f)\n",
        "    doc_q_SIM.append(dq_f)\n",
        "    len_a.append(len(i[0].split(' ')))\n",
        "    len_q.append(len_qq)\n",
        "    q_type.append(qq_type)"
      ],
      "execution_count": 0,
      "outputs": [
        {
          "output_type": "stream",
          "text": [
            "CPU times: user 1h 1min 51s, sys: 18.6 s, total: 1h 2min 10s\n",
            "Wall time: 1h 2min 19s\n"
          ],
          "name": "stdout"
        }
      ]
    },
    {
      "cell_type": "code",
      "metadata": {
        "id": "YJx58Xe47oXg",
        "colab_type": "code",
        "colab": {}
      },
      "source": [
        "max_len_a = max(len_a)\n",
        "max_len_q = max(len_q)\n",
        "\n",
        "len_a = [x/max_len_a for x in len_a]\n",
        "len_q = [x/max_len_q for x in len_q]"
      ],
      "execution_count": 0,
      "outputs": []
    },
    {
      "cell_type": "code",
      "metadata": {
        "id": "P0RjGVN17oXo",
        "colab_type": "code",
        "colab": {},
        "outputId": "9b858a03-5ed5-4a46-b2b6-f42181b13891"
      },
      "source": [
        "len(doc_q_SIM)"
      ],
      "execution_count": 0,
      "outputs": [
        {
          "output_type": "execute_result",
          "data": {
            "text/plain": [
              "299630"
            ]
          },
          "metadata": {
            "tags": []
          },
          "execution_count": 137
        }
      ]
    },
    {
      "cell_type": "code",
      "metadata": {
        "id": "9KnLP0Xw7oXw",
        "colab_type": "code",
        "colab": {}
      },
      "source": [
        "doc_q_SIM = np.asarray(doc_q_SIM).reshape(299630, 1)\n",
        "a_q_SIM = np.asarray(a_q_SIM).reshape(299630, 1)\n",
        "len_a = np.asarray(len_a).reshape(299630, 1)\n",
        "len_q = np.asarray(len_q).reshape(299630, 1)\n",
        "q_type = np.asarray(q_type)\n",
        "ents_vec = np.asarray(ents_vec)\n",
        "pos_vec = np.asarray(pos_vec)"
      ],
      "execution_count": 0,
      "outputs": []
    },
    {
      "cell_type": "code",
      "metadata": {
        "id": "NLiexxgl7oX0",
        "colab_type": "code",
        "colab": {},
        "outputId": "3e1e61d3-3071-4a64-b89d-5478e47f3f80"
      },
      "source": [
        "len_q[0]"
      ],
      "execution_count": 0,
      "outputs": [
        {
          "output_type": "execute_result",
          "data": {
            "text/plain": [
              "array([0.43478261])"
            ]
          },
          "metadata": {
            "tags": []
          },
          "execution_count": 209
        }
      ]
    },
    {
      "cell_type": "code",
      "metadata": {
        "id": "CPbj7KrR7oX4",
        "colab_type": "code",
        "colab": {}
      },
      "source": [
        "input_features = np.hstack((a_q_SIM, doc_q_SIM,len_a,len_q,pos_vec,ents_vec,q_type))\n",
        "targets = np.asarray(train_data['target'].values.tolist())\n",
        "targets = targets.reshape(-1, 1)"
      ],
      "execution_count": 0,
      "outputs": []
    },
    {
      "cell_type": "code",
      "metadata": {
        "id": "iOY_QHSB7oX9",
        "colab_type": "code",
        "colab": {}
      },
      "source": [
        "from numpy import zeros, newaxis\n",
        "input_features = input_features[:, :, newaxis]"
      ],
      "execution_count": 0,
      "outputs": []
    },
    {
      "cell_type": "code",
      "metadata": {
        "id": "rXghthgq7oYB",
        "colab_type": "code",
        "colab": {},
        "outputId": "6bfed3e5-27ca-4f35-d475-824ace7d83ff"
      },
      "source": [
        "%%time\n",
        "a_q_SIM_test = []\n",
        "doc_q_SIM_test = []\n",
        "len_a_test = []\n",
        "len_q_test = []\n",
        "q_type_test = []\n",
        "ents_vec_test = []\n",
        "pos_vec_test = []\n",
        "\n",
        "for i in validate_data[['answer_candidate', 'question_text', 'document_text', 'target']].values:\n",
        "    if i[3] == 1:\n",
        "        qq_type = get_question_type_features(i[2])\n",
        "        len_qq = len(i[1].split(' '))\n",
        "    en_a = nlp(i[0])\n",
        "    all_ent = [ent.label_.lower() for ent in en_a.ents]\n",
        "    all_pos = [ent.tag_ for ent in en_a]\n",
        "    ner_f = get_ner_features(all_ent)\n",
        "    ents_vec_test.append(ner_f)\n",
        "    pos_f = get_pos_features(all_pos)\n",
        "    pos_vec_test.append(pos_f)\n",
        "    aq_f = get_jaccard_sim(i[0], i[1])\n",
        "    dq_f = get_jaccard_sim(i[2], i[1])\n",
        "    a_q_SIM_test.append(aq_f)\n",
        "    doc_q_SIM_test.append(dq_f)\n",
        "    len_a_test.append(len(i[0].split(' ')))\n",
        "    len_q_test.append(len_qq)\n",
        "    q_type_test.append(qq_type)"
      ],
      "execution_count": 0,
      "outputs": [
        {
          "output_type": "stream",
          "text": [
            "CPU times: user 19min 46s, sys: 2.15 s, total: 19min 48s\n",
            "Wall time: 19min 49s\n"
          ],
          "name": "stdout"
        }
      ]
    },
    {
      "cell_type": "code",
      "metadata": {
        "id": "qFKo8Px17oYE",
        "colab_type": "code",
        "colab": {}
      },
      "source": [
        "max_len_a_test = max(len_a_test)\n",
        "max_len_q_test = max(len_q_test)\n",
        "\n",
        "len_a_test = [x/max_len_a_test for x in len_a_test]\n",
        "len_q_test = [x/max_len_q_test for x in len_q_test]"
      ],
      "execution_count": 0,
      "outputs": []
    },
    {
      "cell_type": "code",
      "metadata": {
        "id": "stPkvKSd7oYH",
        "colab_type": "code",
        "colab": {}
      },
      "source": [
        "doc_q_SIM_test = np.asarray(doc_q_SIM_test).reshape(131937, 1)\n",
        "a_q_SIM_test = np.asarray(a_q_SIM_test).reshape(131937, 1)\n",
        "len_a_test = np.asarray(len_a_test).reshape(131937, 1)\n",
        "len_q_test = np.asarray(len_q_test).reshape(131937, 1)\n",
        "q_type_test = np.asarray(q_type_test)\n",
        "ents_vec_test = np.asarray(ents_vec_test)\n",
        "pos_vec_test = np.asarray(pos_vec_test)"
      ],
      "execution_count": 0,
      "outputs": []
    },
    {
      "cell_type": "code",
      "metadata": {
        "id": "9jREyBHV7oYO",
        "colab_type": "code",
        "colab": {}
      },
      "source": [
        "input_features_test = np.hstack((doc_q_SIM_test, a_q_SIM_test, len_a_test, len_q_test, q_type_test, ents_vec_test, pos_vec_test))\n",
        "targets_test = np.asarray(validate_data['target'].values.tolist())\n",
        "targets_test = targets_test.reshape(-1, 1)\n"
      ],
      "execution_count": 0,
      "outputs": []
    },
    {
      "cell_type": "code",
      "metadata": {
        "id": "N0R2CP4s7oYV",
        "colab_type": "code",
        "colab": {}
      },
      "source": [
        "from numpy import zeros, newaxis\n",
        "input_features_test = input_features_test[:, :, newaxis]"
      ],
      "execution_count": 0,
      "outputs": []
    },
    {
      "cell_type": "code",
      "metadata": {
        "id": "isivyCgP7oYg",
        "colab_type": "code",
        "colab": {},
        "outputId": "e30f8e17-a8ca-4158-df78-f3c0336d64c1"
      },
      "source": [
        "input_features.shape"
      ],
      "execution_count": 0,
      "outputs": [
        {
          "output_type": "execute_result",
          "data": {
            "text/plain": [
              "(299630, 90, 1)"
            ]
          },
          "metadata": {
            "tags": []
          },
          "execution_count": 267
        }
      ]
    },
    {
      "cell_type": "code",
      "metadata": {
        "id": "TRvYWRsp7oYo",
        "colab_type": "code",
        "colab": {},
        "outputId": "0ee6107b-983e-4b51-8366-7cdd46865479"
      },
      "source": [
        "targets.shape"
      ],
      "execution_count": 0,
      "outputs": [
        {
          "output_type": "execute_result",
          "data": {
            "text/plain": [
              "(299630, 1)"
            ]
          },
          "metadata": {
            "tags": []
          },
          "execution_count": 141
        }
      ]
    },
    {
      "cell_type": "code",
      "metadata": {
        "id": "izLiMNse7oYu",
        "colab_type": "code",
        "colab": {}
      },
      "source": [
        "import os\n",
        "os.environ[\"KERAS_BACKEND\"] = \"plaidml.keras.backend\""
      ],
      "execution_count": 0,
      "outputs": []
    },
    {
      "cell_type": "code",
      "metadata": {
        "id": "rQb9IqRi7oYy",
        "colab_type": "code",
        "colab": {}
      },
      "source": [
        "import keras as K\n",
        "from keras.layers import Dense, Input, Dropout, GRU\n",
        "from keras.models import Sequential\n",
        "from keras.optimizers import Adam"
      ],
      "execution_count": 0,
      "outputs": []
    },
    {
      "cell_type": "code",
      "metadata": {
        "id": "8X1rBD9j7oY2",
        "colab_type": "code",
        "colab": {}
      },
      "source": [
        "del model"
      ],
      "execution_count": 0,
      "outputs": []
    },
    {
      "cell_type": "code",
      "metadata": {
        "id": "Ur4d6ISO7oY7",
        "colab_type": "code",
        "colab": {}
      },
      "source": [
        "model = Sequential()\n",
        "model.add(Dense(512, activation='relu', input_shape=(90,)))\n",
        "model.add(Dropout(0.5))\n",
        "model.add(Dense(1, activation='sigmoid'))"
      ],
      "execution_count": 0,
      "outputs": []
    },
    {
      "cell_type": "code",
      "metadata": {
        "id": "dgYbqaBT7oZA",
        "colab_type": "code",
        "colab": {}
      },
      "source": [
        "#model.save('my_model.h5')"
      ],
      "execution_count": 0,
      "outputs": []
    },
    {
      "cell_type": "code",
      "metadata": {
        "id": "sOskpfeB7oZD",
        "colab_type": "code",
        "colab": {},
        "outputId": "7d010824-c9de-44ec-cde7-2f102259aaf8"
      },
      "source": [
        "model.summary()"
      ],
      "execution_count": 0,
      "outputs": [
        {
          "output_type": "stream",
          "text": [
            "_________________________________________________________________\n",
            "Layer (type)                 Output Shape              Param #   \n",
            "=================================================================\n",
            "gru_3 (GRU)                  (None, 512)               789504    \n",
            "_________________________________________________________________\n",
            "dropout_21 (Dropout)         (None, 512)               0         \n",
            "_________________________________________________________________\n",
            "dense_41 (Dense)             (None, 1)                 513       \n",
            "=================================================================\n",
            "Total params: 790,017\n",
            "Trainable params: 790,017\n",
            "Non-trainable params: 0\n",
            "_________________________________________________________________\n"
          ],
          "name": "stdout"
        }
      ]
    },
    {
      "cell_type": "code",
      "metadata": {
        "id": "GzRhayfN7oZJ",
        "colab_type": "code",
        "colab": {}
      },
      "source": [
        "model.compile(loss='binary_crossentropy', optimizer=Adam(lr=0.0005), metrics=['accuracy'])"
      ],
      "execution_count": 0,
      "outputs": []
    },
    {
      "cell_type": "code",
      "metadata": {
        "id": "2KZYTU_d7oZN",
        "colab_type": "code",
        "colab": {}
      },
      "source": [
        "history = model.fit(input_features, targets, epochs=20, batch_size=256, verbose=1)"
      ],
      "execution_count": 0,
      "outputs": []
    },
    {
      "cell_type": "code",
      "metadata": {
        "id": "tc9DZQX-7oZX",
        "colab_type": "code",
        "colab": {}
      },
      "source": [
        "y_pred = model.predict(input_features_test)"
      ],
      "execution_count": 0,
      "outputs": []
    },
    {
      "cell_type": "code",
      "metadata": {
        "id": "wkuiEK6u7oZZ",
        "colab_type": "code",
        "colab": {}
      },
      "source": [
        "y_pred = y_pred.reshape(1, -1)\n"
      ],
      "execution_count": 0,
      "outputs": []
    },
    {
      "cell_type": "code",
      "metadata": {
        "id": "N6Xo6YAd7oZb",
        "colab_type": "code",
        "colab": {},
        "outputId": "cc90f66b-f6db-4a72-9d46-4758fbc30d6f"
      },
      "source": [
        "targets_test.shape"
      ],
      "execution_count": 0,
      "outputs": [
        {
          "output_type": "execute_result",
          "data": {
            "text/plain": [
              "(299630, 1)"
            ]
          },
          "metadata": {
            "tags": []
          },
          "execution_count": 171
        }
      ]
    },
    {
      "cell_type": "code",
      "metadata": {
        "id": "u_eTGmK87oZg",
        "colab_type": "code",
        "colab": {}
      },
      "source": [
        "qq = pd.DataFrame()\n",
        "qq['y_pred'] = y_pred[0]\n",
        "qq['example_id'] = validate_data['example_id']\n",
        "qq['targets'] = targets_test"
      ],
      "execution_count": 0,
      "outputs": []
    },
    {
      "cell_type": "code",
      "metadata": {
        "id": "2ErqcKDZ7oZw",
        "colab_type": "code",
        "colab": {}
      },
      "source": [
        "ans_qq = []\n"
      ],
      "execution_count": 0,
      "outputs": []
    },
    {
      "cell_type": "code",
      "metadata": {
        "id": "3ldJyaRC7oZ7",
        "colab_type": "code",
        "colab": {}
      },
      "source": [
        "idx = qq.groupby(['example_id'])['y_pred'].transform(max) == qq['y_pred']"
      ],
      "execution_count": 0,
      "outputs": []
    },
    {
      "cell_type": "code",
      "metadata": {
        "id": "CqmdIhba7oaB",
        "colab_type": "code",
        "colab": {}
      },
      "source": [
        "idx = idx.values.astype(int)"
      ],
      "execution_count": 0,
      "outputs": []
    },
    {
      "cell_type": "code",
      "metadata": {
        "id": "ykH_Fomm7oaF",
        "colab_type": "code",
        "colab": {}
      },
      "source": [
        "idx = idx.tolist()"
      ],
      "execution_count": 0,
      "outputs": []
    },
    {
      "cell_type": "code",
      "metadata": {
        "id": "YUoeVUr67oan",
        "colab_type": "code",
        "colab": {}
      },
      "source": [
        "from sklearn.metrics import f1_score, accuracy_score\n",
        "f1 = f1_score(targets_test, idx)\n",
        "print(f1)"
      ],
      "execution_count": 0,
      "outputs": []
    }
  ]
}