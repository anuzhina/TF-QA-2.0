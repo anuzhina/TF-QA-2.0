{
 "cells": [
  {
   "cell_type": "code",
   "execution_count": 0,
   "metadata": {
    "_cell_guid": "b1076dfc-b9ad-4769-8c92-a6c4dae69d19",
    "_uuid": "8f2839f25d086af736a60e9eeb907d3b93b6e0e5",
    "jupyter": {
     "outputs_hidden": true
    },
    "trusted": true,
    "_kg_hide-input": false,
    "id": "xqUYTY8kvSNj",
    "colab_type": "code",
    "colab": {}
   },
   "outputs": [],
   "source": [
    "import numpy as np \n",
    "import pandas as pd \n",
    "import tensorflow as tf\n",
    "import sys\n",
    "import collections\n",
    "sys.path.extend(['../input/bert-joint-utils/'])\n",
    "\n",
    "import bert_utils\n",
    "import modeling \n",
    "\n",
    "import tokenization\n",
    "import json\n",
    "\n",
    "import os\n",
    "for dirname, _, filenames in os.walk('/kaggle/input'):\n",
    "    for filename in filenames:\n",
    "        print(os.path.join(dirname, filename))\n"
   ]
  },
  {
   "cell_type": "code",
   "execution_count": 0,
   "metadata": {
    "trusted": true,
    "_kg_hide-input": false,
    "id": "4PNi1wuJvSNs",
    "colab_type": "code",
    "colab": {}
   },
   "outputs": [],
   "source": [
    "on_kaggle_server = os.path.exists('/kaggle')\n",
    "nq_test_file = '../input/tensorflow2-question-answering/simplified-nq-test.jsonl' \n",
    "nq_train_file = '../input/tensorflow2-question-answering/simplified-nq-train.jsonl'"
   ]
  },
  {
   "cell_type": "code",
   "execution_count": 0,
   "metadata": {
    "trusted": true,
    "_kg_hide-input": false,
    "id": "ybtUA2wzvSN0",
    "colab_type": "code",
    "colab": {}
   },
   "outputs": [],
   "source": [
    "if True:\n",
    "    import importlib\n",
    "    importlib.reload(bert_utils)"
   ]
  },
  {
   "cell_type": "code",
   "execution_count": 0,
   "metadata": {
    "trusted": true,
    "id": "P9lCZ_tgvSN4",
    "colab_type": "code",
    "colab": {}
   },
   "outputs": [],
   "source": [
    "with open('/kaggle/input/bert-joint-utils/bert_config.json') as json_file:\n",
    "    config = json.load(json_file)"
   ]
  },
  {
   "cell_type": "code",
   "execution_count": 0,
   "metadata": {
    "trusted": true,
    "id": "LsBUYpLgvSN8",
    "colab_type": "code",
    "colab": {},
    "outputId": "e69426de-eb1c-401c-c304-421c7f9aae7d"
   },
   "outputs": [
    {
     "data": {
      "text/plain": [
       "{'attention_probs_dropout_prob': 0.1,\n",
       " 'hidden_act': 'gelu',\n",
       " 'hidden_dropout_prob': 0.1,\n",
       " 'hidden_size': 1024,\n",
       " 'initializer_range': 0.02,\n",
       " 'intermediate_size': 4096,\n",
       " 'max_position_embeddings': 512,\n",
       " 'num_attention_heads': 16,\n",
       " 'num_hidden_layers': 24,\n",
       " 'type_vocab_size': 2,\n",
       " 'vocab_size': 30522}"
      ]
     },
     "execution_count": 7,
     "metadata": {
      "tags": []
     },
     "output_type": "execute_result"
    }
   ],
   "source": [
    "config"
   ]
  },
  {
   "cell_type": "code",
   "execution_count": 0,
   "metadata": {
    "jupyter": {
     "outputs_hidden": true
    },
    "trusted": true,
    "_kg_hide-input": false,
    "id": "Xglg2M-_vSOE",
    "colab_type": "code",
    "colab": {}
   },
   "outputs": [],
   "source": [
    "class TDense(tf.keras.layers.Layer):\n",
    "    def __init__(self,\n",
    "                 output_size,\n",
    "                 kernel_initializer=None,\n",
    "                 bias_initializer=\"zeros\",\n",
    "                **kwargs):\n",
    "        super().__init__(**kwargs)\n",
    "        self.output_size = output_size\n",
    "        self.kernel_initializer = kernel_initializer\n",
    "        self.bias_initializer = bias_initializer\n",
    "    def build(self,input_shape):\n",
    "        dtype = tf.as_dtype(self.dtype or tf.keras.backend.floatx())\n",
    "        if not (dtype.is_floating or dtype.is_complex):\n",
    "          raise TypeError(\"Unable to build `TDense` layer with \"\n",
    "                          \"non-floating point (and non-complex) \"\n",
    "                          \"dtype %s\" % (dtype,))\n",
    "        input_shape = tf.TensorShape(input_shape)\n",
    "        if tf.compat.dimension_value(input_shape[-1]) is None:\n",
    "          raise ValueError(\"The last dimension of the inputs to \"\n",
    "                           \"`TDense` should be defined. \"\n",
    "                           \"Found `None`.\")\n",
    "        last_dim = tf.compat.dimension_value(input_shape[-1])\n",
    "        self.input_spec = tf.keras.layers.InputSpec(min_ndim=3, axes={-1: last_dim})\n",
    "        self.kernel = self.add_weight(\n",
    "            \"kernel\",\n",
    "            shape=[self.output_size,last_dim],\n",
    "            initializer=self.kernel_initializer,\n",
    "            dtype=self.dtype,\n",
    "            trainable=True)\n",
    "        self.bias = self.add_weight(\n",
    "            \"bias\",\n",
    "            shape=[self.output_size],\n",
    "            initializer=self.bias_initializer,\n",
    "            dtype=self.dtype,\n",
    "            trainable=True)\n",
    "        super(TDense, self).build(input_shape)\n",
    "    def call(self,x):\n",
    "        return tf.matmul(x,self.kernel,transpose_b=True)+self.bias\n",
    "    \n",
    "def mk_model(config):\n",
    "    seq_len = config['max_position_embeddings']\n",
    "    unique_id  = tf.keras.Input(shape=(1,),dtype=tf.int64,name='unique_id')\n",
    "    input_ids   = tf.keras.Input(shape=(seq_len,),dtype=tf.int32,name='input_ids')\n",
    "    input_mask  = tf.keras.Input(shape=(seq_len,),dtype=tf.int32,name='input_mask')\n",
    "    segment_ids = tf.keras.Input(shape=(seq_len,),dtype=tf.int32,name='segment_ids')\n",
    "    BERT = modeling.BertModel(config=config,name='bert')\n",
    "    pooled_output, sequence_output = BERT(input_word_ids=input_ids,\n",
    "                                          input_mask=input_mask,\n",
    "                                          input_type_ids=segment_ids)\n",
    "    \n",
    "    logits = TDense(2,name='logits')(sequence_output)\n",
    "    start_logits,end_logits = tf.split(logits,axis=-1,num_or_size_splits= 2,name='split')\n",
    "    start_logits = tf.squeeze(start_logits,axis=-1,name='start_squeeze')\n",
    "    end_logits   = tf.squeeze(end_logits,  axis=-1,name='end_squeeze')\n",
    "    \n",
    "    ans_type      = TDense(5,name='ans_type')(pooled_output)\n",
    "    return tf.keras.Model([input_ for input_ in [unique_id,input_ids,input_mask,segment_ids] \n",
    "                           if input_ is not None],\n",
    "                          [unique_id,start_logits,end_logits,ans_type],\n",
    "                          name='bert-baseline')    "
   ]
  },
  {
   "cell_type": "code",
   "execution_count": 0,
   "metadata": {
    "jupyter": {
     "outputs_hidden": true
    },
    "trusted": true,
    "id": "52MCP9JTvSOS",
    "colab_type": "code",
    "colab": {}
   },
   "outputs": [],
   "source": [
    "model = mk_model(config)"
   ]
  },
  {
   "cell_type": "code",
   "execution_count": 0,
   "metadata": {
    "jupyter": {
     "outputs_hidden": true
    },
    "trusted": true,
    "id": "zAqr9q3SvSOY",
    "colab_type": "code",
    "colab": {},
    "outputId": "81c48c4d-a37b-4307-b4bd-a1d930ef2253"
   },
   "outputs": [
    {
     "name": "stdout",
     "output_type": "stream",
     "text": [
      "Model: \"bert-baseline\"\n",
      "__________________________________________________________________________________________________\n",
      "Layer (type)                    Output Shape         Param #     Connected to                     \n",
      "==================================================================================================\n",
      "input_ids (InputLayer)          [(None, 512)]        0                                            \n",
      "__________________________________________________________________________________________________\n",
      "input_mask (InputLayer)         [(None, 512)]        0                                            \n",
      "__________________________________________________________________________________________________\n",
      "segment_ids (InputLayer)        [(None, 512)]        0                                            \n",
      "__________________________________________________________________________________________________\n",
      "bert (BertModel)                ((None, 1024), (None 335141888   input_ids[0][0]                  \n",
      "                                                                 input_mask[0][0]                 \n",
      "                                                                 segment_ids[0][0]                \n",
      "__________________________________________________________________________________________________\n",
      "logits (TDense)                 (None, 512, 2)       2050        bert[0][1]                       \n",
      "__________________________________________________________________________________________________\n",
      "tf_op_layer_split_1 (TensorFlow [(None, 512, 1), (No 0           logits[0][0]                     \n",
      "__________________________________________________________________________________________________\n",
      "unique_id (InputLayer)          [(None, 1)]          0                                            \n",
      "__________________________________________________________________________________________________\n",
      "tf_op_layer_start_squeeze_1 (Te [(None, 512)]        0           tf_op_layer_split_1[0][0]        \n",
      "__________________________________________________________________________________________________\n",
      "tf_op_layer_end_squeeze_1 (Tens [(None, 512)]        0           tf_op_layer_split_1[0][1]        \n",
      "__________________________________________________________________________________________________\n",
      "ans_type (TDense)               (None, 5)            5125        bert[0][0]                       \n",
      "==================================================================================================\n",
      "Total params: 335,149,063\n",
      "Trainable params: 335,149,063\n",
      "Non-trainable params: 0\n",
      "__________________________________________________________________________________________________\n"
     ]
    }
   ],
   "source": [
    "model.summary()"
   ]
  },
  {
   "cell_type": "code",
   "execution_count": 0,
   "metadata": {
    "jupyter": {
     "outputs_hidden": true
    },
    "trusted": true,
    "_kg_hide-input": false,
    "id": "bofcpaGbvSOd",
    "colab_type": "code",
    "colab": {},
    "outputId": "1a724e57-fdaf-4e30-d1ba-9b42a8d09ade"
   },
   "outputs": [
    {
     "data": {
      "text/plain": [
       "<tensorflow.python.training.tracking.util.CheckpointLoadStatus at 0x7fe7d0be8e80>"
      ]
     },
     "execution_count": 33,
     "metadata": {
      "tags": []
     },
     "output_type": "execute_result"
    }
   ],
   "source": [
    "cpkt = tf.train.Checkpoint(model=model)\n",
    "cpkt.restore('/kaggle/input/bert2epochtrain/-1').assert_consumed()"
   ]
  },
  {
   "cell_type": "code",
   "execution_count": 0,
   "metadata": {
    "trusted": true,
    "_kg_hide-input": false,
    "id": "riY9GBIuvSOh",
    "colab_type": "code",
    "colab": {}
   },
   "outputs": [],
   "source": [
    "class DummyObject:\n",
    "    def __init__(self,**kwargs):\n",
    "        self.__dict__.update(kwargs)\n",
    "\n",
    "FLAGS=DummyObject(skip_nested_contexts=True, #True\n",
    "                  max_position=50,\n",
    "                  max_contexts=48,\n",
    "                  max_query_length=64,\n",
    "                  max_seq_length=512,\n",
    "                  doc_stride=128,\n",
    "                  include_unknowns=0.02, \n",
    "                  n_best_size=5, \n",
    "                  max_answer_length=30, \n",
    "                  \n",
    "                  warmup_proportion=0.1,\n",
    "                  learning_rate=1e-5,\n",
    "                  num_train_epochs=3.0,\n",
    "                  train_batch_size=32,\n",
    "                  num_train_steps=100000,\n",
    "                  num_warmup_steps=10000,\n",
    "                  max_eval_steps=100,\n",
    "                  use_tpu=False,\n",
    "                  eval_batch_size=8, \n",
    "                  max_predictions_per_seq=20)"
   ]
  },
  {
   "cell_type": "code",
   "execution_count": 0,
   "metadata": {
    "trusted": true,
    "_kg_hide-input": false,
    "id": "SZkq2gfUvSOm",
    "colab_type": "code",
    "colab": {},
    "outputId": "07aed5f8-e4bd-47a5-decc-9d7182611b10"
   },
   "outputs": [
    {
     "data": {
      "text/plain": [
       "True"
      ]
     },
     "execution_count": 35,
     "metadata": {
      "tags": []
     },
     "output_type": "execute_result"
    }
   ],
   "source": [
    "import tqdm\n",
    "eval_records = \"../input/bert-joint-utils/nq-test.tfrecords\"\n",
    "test_mode = True\n",
    "if test_mode:\n",
    "    eval_records='nq-test.tfrecords'\n",
    "if not os.path.exists(eval_records):\n",
    "    \n",
    "    eval_writer = bert_utils.FeatureWriter(\n",
    "        filename=os.path.join(eval_records),\n",
    "        is_training=False)\n",
    "\n",
    "    tokenizer = tokenization.FullTokenizer(vocab_file='../input/bert-joint-utils/vocab-nq.txt', \n",
    "                                           do_lower_case=True)\n",
    "\n",
    "    features = []\n",
    "    convert = bert_utils.ConvertExamples2Features(tokenizer=tokenizer,\n",
    "                                                   is_training=False,\n",
    "                                                   output_fn=eval_writer.process_feature,\n",
    "                                                   collect_stat=False)\n",
    "\n",
    "    n_examples = 0\n",
    "    tqdm_notebook= tqdm.tqdm_notebook if not on_kaggle_server else None\n",
    "    for examples in bert_utils.nq_examples_iter(input_file=nq_test_file, \n",
    "                                           is_training=False,\n",
    "                                           tqdm=tqdm_notebook):\n",
    "        for example in examples:\n",
    "            n_examples += convert(example)\n",
    "\n",
    "    eval_writer.close()\n",
    "    print('number of test examples: %d, written to file: %d' % (n_examples,eval_writer.num_features))"
   ]
  },
  {
   "cell_type": "code",
   "execution_count": 0,
   "metadata": {
    "jupyter": {
     "outputs_hidden": true
    },
    "trusted": true,
    "_kg_hide-input": false,
    "id": "wUXdVNhGvSOq",
    "colab_type": "code",
    "colab": {}
   },
   "outputs": [],
   "source": [
    "seq_length = FLAGS.max_seq_length \n",
    "name_to_features = {\n",
    "      \"unique_id\": tf.io.FixedLenFeature([], tf.int64),\n",
    "      \"input_ids\": tf.io.FixedLenFeature([seq_length], tf.int64),\n",
    "      \"input_mask\": tf.io.FixedLenFeature([seq_length], tf.int64),\n",
    "      \"segment_ids\": tf.io.FixedLenFeature([seq_length], tf.int64),\n",
    "  }\n",
    "\n",
    "def _decode_record(record, name_to_features=name_to_features):\n",
    "    \"\"\"Decodes a record to a TensorFlow example.\"\"\"\n",
    "    example = tf.io.parse_single_example(serialized=record, features=name_to_features)\n",
    "\n",
    "    # tf.Example only supports tf.int64, but the TPU only supports tf.int32.\n",
    "    # So cast all int64 to int32.\n",
    "    for name in list(example.keys()):\n",
    "        t = example[name]\n",
    "        if name != 'unique_id': #t.dtype == tf.int64:\n",
    "            t = tf.cast(t, dtype=tf.int64)\n",
    "        example[name] = t\n",
    "\n",
    "    return example\n",
    "\n",
    "def _decode_tokens(record):\n",
    "    return tf.io.parse_single_example(serialized=record, \n",
    "                                      features={\n",
    "                                          \"unique_id\": tf.io.FixedLenFeature([], tf.int64),\n",
    "                                          \"token_map\" :  tf.io.FixedLenFeature([seq_length], tf.int64)\n",
    "                                      })\n",
    "      "
   ]
  },
  {
   "cell_type": "code",
   "execution_count": 0,
   "metadata": {
    "jupyter": {
     "outputs_hidden": true
    },
    "trusted": true,
    "_kg_hide-input": false,
    "id": "C9VbMYCqvSOx",
    "colab_type": "code",
    "colab": {}
   },
   "outputs": [],
   "source": [
    "raw_ds = tf.data.TFRecordDataset(eval_records)\n",
    "token_map_ds = raw_ds.map(_decode_tokens)\n",
    "decoded_ds = raw_ds.map(_decode_record)\n",
    "ds = decoded_ds.batch(batch_size=16,drop_remainder=False) "
   ]
  },
  {
   "cell_type": "code",
   "execution_count": 0,
   "metadata": {
    "trusted": true,
    "id": "2D9avFf2vSO1",
    "colab_type": "code",
    "colab": {}
   },
   "outputs": [],
   "source": [
    "result = model.predict_generator(ds, verbose=1)"
   ]
  },
  {
   "cell_type": "code",
   "execution_count": 0,
   "metadata": {
    "trusted": true,
    "_kg_hide-input": false,
    "id": "n5odlh4hvSO-",
    "colab_type": "code",
    "colab": {}
   },
   "outputs": [],
   "source": [
    "Span = collections.namedtuple(\"Span\", [\"start_token_idx\", \"end_token_idx\", \"score\"])"
   ]
  },
  {
   "cell_type": "code",
   "execution_count": 0,
   "metadata": {
    "trusted": true,
    "_kg_hide-input": false,
    "id": "439YyqvTvSPD",
    "colab_type": "code",
    "colab": {}
   },
   "outputs": [],
   "source": [
    "class ScoreSummary(object):\n",
    "  def __init__(self):\n",
    "    self.predicted_label = None\n",
    "    self.short_span_score = None\n",
    "    self.cls_token_score = None\n",
    "    self.answer_type_logits = None"
   ]
  },
  {
   "cell_type": "code",
   "execution_count": 0,
   "metadata": {
    "trusted": true,
    "_kg_hide-input": false,
    "id": "VEn5ypqGvSPI",
    "colab_type": "code",
    "colab": {}
   },
   "outputs": [],
   "source": [
    "class EvalExample(object):\n",
    "  \"\"\"Eval data available for a single example.\"\"\"\n",
    "  def __init__(self, example_id, candidates):\n",
    "    self.example_id = example_id\n",
    "    self.candidates = candidates\n",
    "    self.results = {}\n",
    "    self.features = {}"
   ]
  },
  {
   "cell_type": "code",
   "execution_count": 0,
   "metadata": {
    "trusted": true,
    "_kg_hide-input": false,
    "id": "9kHJQHR4vSPO",
    "colab_type": "code",
    "colab": {}
   },
   "outputs": [],
   "source": [
    "def top_k_indices(logits,n_best_size,token_map):\n",
    "    indices = np.argsort(logits[1:])+1\n",
    "    indices = indices[token_map[indices]!=-1]\n",
    "    return indices[-n_best_size:]"
   ]
  },
  {
   "cell_type": "code",
   "execution_count": 0,
   "metadata": {
    "trusted": true,
    "id": "BdvDZidVvSPT",
    "colab_type": "code",
    "colab": {}
   },
   "outputs": [],
   "source": [
    "def remove_duplicates(span):\n",
    "    start_end = []\n",
    "    for s in span:\n",
    "        cont = 0\n",
    "        if not start_end:\n",
    "            start_end.append(Span(s[0], s[1], s[2]))\n",
    "            cont += 1\n",
    "        else:\n",
    "            for i in range(len(start_end)):\n",
    "                if start_end[i][0] == s[0] and start_end[i][1] == s[1]:\n",
    "                    cont += 1\n",
    "        if cont == 0:\n",
    "            start_end.append(Span(s[0], s[1], s[2]))\n",
    "            \n",
    "    return start_end"
   ]
  },
  {
   "cell_type": "code",
   "execution_count": 0,
   "metadata": {
    "trusted": true,
    "id": "wJv1yjX-vSPW",
    "colab_type": "code",
    "colab": {}
   },
   "outputs": [],
   "source": [
    "def get_short_long_span(predictions, example):\n",
    "    \n",
    "    sorted_predictions = sorted(predictions, reverse=True)\n",
    "    short_span = []\n",
    "    long_span = []\n",
    "    for prediction in sorted_predictions:\n",
    "        score, _, summary, start_span, end_span = prediction\n",
    "        # get scores > zero\n",
    "        if score > 0:\n",
    "            short_span.append(Span(int(start_span), int(end_span), float(score)))\n",
    "\n",
    "    short_span = remove_duplicates(short_span)\n",
    "\n",
    "    for s in range(len(short_span)):\n",
    "        for c in example.candidates:\n",
    "            start = short_span[s].start_token_idx\n",
    "            end = short_span[s].end_token_idx\n",
    "            if c[\"top_level\"] and c[\"start_token\"] <= start and c[\"end_token\"] >= end:\n",
    "                long_span.append(Span(int(c[\"start_token\"]), int(c[\"end_token\"]), float(short_span[s].score)))\n",
    "                break\n",
    "    long_span = remove_duplicates(long_span)\n",
    "    \n",
    "    if not long_span:\n",
    "        long_span = [Span(-1, -1, -10000.0)]\n",
    "    if not short_span:\n",
    "        short_span = [Span(-1, -1, -10000.0)]\n",
    "        \n",
    "    \n",
    "    return short_span, long_span"
   ]
  },
  {
   "cell_type": "code",
   "execution_count": 0,
   "metadata": {
    "trusted": true,
    "_kg_hide-input": false,
    "id": "_5Blcw1LvSPZ",
    "colab_type": "code",
    "colab": {}
   },
   "outputs": [],
   "source": [
    "def compute_predictions(example):\n",
    "    \"\"\"Converts an example into an NQEval object for evaluation.\"\"\"\n",
    "    predictions = []\n",
    "    yes_answer = 'NONE'\n",
    "    no_answer = 'NONE'\n",
    "    n_best_size = FLAGS.n_best_size\n",
    "    max_answer_length = FLAGS.max_answer_length\n",
    "    i = 0\n",
    "    for unique_id, result in example.results.items():\n",
    "        if unique_id not in example.features:\n",
    "            raise ValueError(\"No feature found with unique_id:\", unique_id)\n",
    "        token_map = np.array(example.features[unique_id][\"token_map\"]) #.int64_list.value\n",
    "        start_indexes = top_k_indices(result.start_logits,n_best_size,token_map)\n",
    "        if len(start_indexes)==0:\n",
    "            continue\n",
    "        end_indexes   = top_k_indices(result.end_logits,n_best_size,token_map)\n",
    "        if len(end_indexes)==0:\n",
    "            continue\n",
    "        indexes = np.array(list(np.broadcast(start_indexes[None],end_indexes[:,None])))  \n",
    "        indexes = indexes[(indexes[:,0]<indexes[:,1])*(indexes[:,1]-indexes[:,0]<max_answer_length)]\n",
    "        for _, (start_index,end_index) in enumerate(indexes):  \n",
    "            summary = ScoreSummary()\n",
    "            summary.short_span_score = (\n",
    "                result.start_logits[start_index] +\n",
    "                result.end_logits[end_index])\n",
    "            summary.cls_token_score = (\n",
    "                result.start_logits[0] + result.end_logits[0])\n",
    "            summary.answer_type_logits = result.answer_type_logits-result.answer_type_logits.mean()\n",
    "            if summary.answer_type_logits[1] > 0.7:\n",
    "                yes_answer = str(summary.answer_type_logits[1])\n",
    "            if summary.answer_type_logits[2] > 0.7:\n",
    "                no_answer = str(summary.answer_type_logits[2])\n",
    "            start_span = token_map[start_index]\n",
    "            end_span = token_map[end_index] + 1\n",
    "\n",
    "            # Span logits minus the cls logits seems to be close to the best.\n",
    "            score = summary.short_span_score - summary.cls_token_score\n",
    "            predictions.append((score, i, summary, start_span, end_span))\n",
    "            i += 1 # to break ties\n",
    "\n",
    "    # Default empty prediction.\n",
    "    #score = -10000.0\n",
    "    short_span = [Span(-1, -1, -10000.0)]\n",
    "    long_span  = [Span(-1, -1, -10000.0)]\n",
    "    summary    = ScoreSummary()\n",
    "\n",
    "    if predictions:\n",
    "        short_span, long_span = get_short_long_span(predictions, example)\n",
    "      \n",
    "    summary.predicted_label = {\n",
    "        \"example_id\": int(example.example_id),\n",
    "        \"long_answers\": {\n",
    "          \"tokens_and_score\": long_span,\n",
    "          \"start_byte\": -1,\n",
    "          \"end_byte\": -1\n",
    "        },\n",
    "        \"short_answers\": {\n",
    "          \"tokens_and_score\": short_span,\n",
    "          \"start_byte\": -1,\n",
    "          \"end_byte\": -1,\n",
    "          \"yes_no_answer\": \"NONE\",\n",
    "            \"yes_answer\":yes_answer,\n",
    "            \"no_answer\":no_answer\n",
    "        }\n",
    "       }\n",
    "\n",
    "    return summary"
   ]
  },
  {
   "cell_type": "code",
   "execution_count": 0,
   "metadata": {
    "trusted": true,
    "_kg_hide-input": false,
    "id": "RZca_P6cvSPe",
    "colab_type": "code",
    "colab": {}
   },
   "outputs": [],
   "source": [
    "def compute_pred_dict(candidates_dict, dev_features, raw_results,tqdm=None):\n",
    "    \"\"\"Computes official answer key from raw logits.\"\"\"\n",
    "    raw_results_by_id = [(int(res.unique_id),1, res) for res in raw_results]\n",
    "\n",
    "    examples_by_id = [(int(k),0,v) for k, v in candidates_dict.items()]\n",
    "  \n",
    "    features_by_id = [(int(d['unique_id']),2,d) for d in dev_features] \n",
    "  \n",
    "    # Join examples with features and raw results.\n",
    "    examples = []\n",
    "    print('merging examples...')\n",
    "    merged = sorted(examples_by_id + raw_results_by_id + features_by_id)\n",
    "    print('done.')\n",
    "    for idx, type_, datum in merged:\n",
    "        if type_==0: #isinstance(datum, list):\n",
    "            examples.append(EvalExample(idx, datum))\n",
    "        elif type_==2: #\"token_map\" in datum:\n",
    "            examples[-1].features[idx] = datum\n",
    "        else:\n",
    "            examples[-1].results[idx] = datum\n",
    "\n",
    "    # Construct prediction objects.\n",
    "    print('Computing predictions...')\n",
    "   \n",
    "    nq_pred_dict = {}\n",
    "    #summary_dict = {}\n",
    "    if tqdm is not None:\n",
    "        examples = tqdm(examples)\n",
    "    for e in examples:\n",
    "        summary = compute_predictions(e)\n",
    "        #summary_dict[e.example_id] = summary\n",
    "        nq_pred_dict[e.example_id] = summary.predicted_label\n",
    "    return nq_pred_dict"
   ]
  },
  {
   "cell_type": "code",
   "execution_count": 0,
   "metadata": {
    "trusted": true,
    "_kg_hide-input": false,
    "id": "ubnu-ilEvSPi",
    "colab_type": "code",
    "colab": {}
   },
   "outputs": [],
   "source": [
    "def read_candidates_from_one_split(input_path):\n",
    "  \"\"\"Read candidates from a single jsonl file.\"\"\"\n",
    "  candidates_dict = {}\n",
    "  print(\"Reading examples from: %s\" % input_path)\n",
    "  if input_path.endswith(\".gz\"):\n",
    "    with gzip.GzipFile(fileobj=tf.io.gfile.GFile(input_path, \"rb\")) as input_file:\n",
    "      for index, line in enumerate(input_file):\n",
    "        e = json.loads(line)\n",
    "        candidates_dict[e[\"example_id\"]] = e[\"long_answer_candidates\"]\n",
    "        \n",
    "  else:\n",
    "    with tf.io.gfile.GFile(input_path, \"r\") as input_file:\n",
    "      for index, line in enumerate(input_file):\n",
    "        e = json.loads(line)\n",
    "        candidates_dict[e[\"example_id\"]] = e[\"long_answer_candidates\"] # testar juntando com question_text\n",
    "  return candidates_dict"
   ]
  },
  {
   "cell_type": "code",
   "execution_count": 0,
   "metadata": {
    "trusted": true,
    "id": "plVQKHgFvSPk",
    "colab_type": "code",
    "colab": {}
   },
   "outputs": [],
   "source": [
    "def read_candidates(input_pattern):\n",
    "  \"\"\"Read candidates with real multiple processes.\"\"\"\n",
    "  input_paths = tf.io.gfile.glob(input_pattern)\n",
    "  final_dict = {}\n",
    "  for input_path in input_paths:\n",
    "    final_dict.update(read_candidates_from_one_split(input_path))\n",
    "  return final_dict"
   ]
  },
  {
   "cell_type": "code",
   "execution_count": 0,
   "metadata": {
    "trusted": true,
    "_kg_hide-input": false,
    "id": "c0Kg38INvSPn",
    "colab_type": "code",
    "colab": {}
   },
   "outputs": [],
   "source": [
    "all_results = [bert_utils.RawResult(*x) for x in zip(*result)]\n",
    "\n",
    "candidates_dict = read_candidates('../input/tensorflow2-question-answering/simplified-nq-test.jsonl')\n",
    "\n",
    "eval_features = list(token_map_ds)\n",
    "\n",
    "tqdm_notebook= tqdm.tqdm_notebook\n",
    "nq_pred_dict = compute_pred_dict(candidates_dict,\n",
    "                                 eval_features,\n",
    "                                 all_results,\n",
    "                                 tqdm=tqdm_notebook)\n",
    "\n",
    "pred_json = {\"predictions\": list(nq_pred_dict.values())}"
   ]
  },
  {
   "cell_type": "code",
   "execution_count": 0,
   "metadata": {
    "trusted": true,
    "id": "B9DIA-hLvSPu",
    "colab_type": "code",
    "colab": {}
   },
   "outputs": [],
   "source": [
    "answers_df = pd.DataFrame(pred_json)\n",
    "answers_df.head()"
   ]
  },
  {
   "cell_type": "code",
   "execution_count": 0,
   "metadata": {
    "trusted": true,
    "id": "9DvxomE3vSP0",
    "colab_type": "code",
    "colab": {}
   },
   "outputs": [],
   "source": [
    "def df_long_index_score(df):\n",
    "    answers = []\n",
    "    cont = 0\n",
    "    for e in df['long_answers']['tokens_and_score']:\n",
    "        if e[2] > 2: \n",
    "            index = {}\n",
    "            index['start'] = e[0]\n",
    "            index['end'] = e[1]\n",
    "            index['score'] = e[2]\n",
    "            answers.append(index)\n",
    "            cont += 1\n",
    "        if cont == 1:\n",
    "            break\n",
    "            \n",
    "    return answers\n",
    "\n",
    "def df_short_index_score(df):\n",
    "    df_tokens = df[0]['short_answers']['tokens_and_score']\n",
    "    df_short = df[0]['short_answers']\n",
    "    answers = []\n",
    "    if df_short['yes_answer']!='NONE' and df_short['no_answer']!='NONE':\n",
    "        if float(df_short['yes_answer']) > float(df_short['no_answer']):\n",
    "            answers.append('YES')\n",
    "        else:\n",
    "            answers.append('NO')\n",
    "        \n",
    "    elif df_short['yes_answer']!='NONE' and df_short['no_answer']=='NONE':\n",
    "        answers.append('YES')\n",
    "        \n",
    "    elif df_short['yes_answer']=='NONE' and df_short['no_answer']!='NONE':\n",
    "        answers.append('NO')\n",
    "\n",
    "    for e in df_tokens:\n",
    "        if e[2] > 6:\n",
    "            index = {}\n",
    "            index['start'] = e[0]\n",
    "            index['end'] = e[1]\n",
    "            index['score'] = e[2]\n",
    "            answers.append(index)\n",
    "            break\n",
    "    return answers\n",
    "\n",
    "def df_example_id(df):\n",
    "    return df['example_id']"
   ]
  },
  {
   "cell_type": "code",
   "execution_count": 0,
   "metadata": {
    "trusted": true,
    "id": "ipqWshRZvSP2",
    "colab_type": "code",
    "colab": {}
   },
   "outputs": [],
   "source": [
    "answers_df['example_id'] = answers_df['predictions'].apply(df_example_id)\n",
    "\n",
    "answers_df['long_indexes_and_scores'] = answers_df['predictions'].apply(df_long_index_score)\n",
    "\n",
    "answers_df['short_indexes_and_scores'] = answers_df.apply(lambda x:df_short_index_score(x.values.tolist()), axis=1)\n",
    "\n",
    "answers_df.head()"
   ]
  },
  {
   "cell_type": "code",
   "execution_count": 0,
   "metadata": {
    "trusted": true,
    "id": "uInZsFT0vSP5",
    "colab_type": "code",
    "colab": {}
   },
   "outputs": [],
   "source": [
    "answers_df = answers_df.drop(['predictions'], axis=1)\n",
    "answers_df.head()"
   ]
  },
  {
   "cell_type": "code",
   "execution_count": 0,
   "metadata": {
    "trusted": true,
    "id": "5xO0loM5vSP8",
    "colab_type": "code",
    "colab": {}
   },
   "outputs": [],
   "source": [
    "def create_answer(entry):\n",
    "    answer = []\n",
    "    for e in entry:\n",
    "        if e == 'YES' or e == 'NO':\n",
    "            answer.append(e)\n",
    "        else:\n",
    "            answer.append(str(e['start']) + ':'+ str(e['end']))\n",
    "    if not answer:\n",
    "        answer = \"\"\n",
    "    return \", \".join(answer)\n"
   ]
  },
  {
   "cell_type": "code",
   "execution_count": 0,
   "metadata": {
    "trusted": true,
    "_kg_hide-input": false,
    "id": "ONcJJ-cKvSQC",
    "colab_type": "code",
    "colab": {}
   },
   "outputs": [],
   "source": [
    "answers_df[\"long_answer\"] = answers_df['long_indexes_and_scores'].apply(create_answer)\n",
    "answers_df[\"short_answer\"] = answers_df['short_indexes_and_scores'].apply(create_answer)\n",
    "answers_df[\"example_id\"] = answers_df['example_id'].apply(lambda q: str(q))\n",
    "\n",
    "long_answers = dict(zip(answers_df[\"example_id\"], answers_df[\"long_answer\"]))\n",
    "short_answers = dict(zip(answers_df[\"example_id\"], answers_df[\"short_answer\"]))\n",
    "\n",
    "answers_df.head()"
   ]
  },
  {
   "cell_type": "code",
   "execution_count": 0,
   "metadata": {
    "trusted": true,
    "id": "_7_-Ng2HvSQG",
    "colab_type": "code",
    "colab": {}
   },
   "outputs": [],
   "source": [
    "answers_df = answers_df.drop(['long_indexes_and_scores', 'short_indexes_and_scores'], axis=1)\n",
    "answers_df.head()"
   ]
  },
  {
   "cell_type": "code",
   "execution_count": 0,
   "metadata": {
    "trusted": true,
    "_kg_hide-input": false,
    "id": "C5NFnuvNvSQJ",
    "colab_type": "code",
    "colab": {}
   },
   "outputs": [],
   "source": [
    "sample_submission = pd.read_csv(\"../input/tensorflow2-question-answering/sample_submission.csv\")\n",
    "\n",
    "long_prediction_strings = sample_submission[sample_submission[\"example_id\"].str.contains(\"_long\")].apply(lambda q: long_answers[q[\"example_id\"].replace(\"_long\", \"\")], axis=1)\n",
    "short_prediction_strings = sample_submission[sample_submission[\"example_id\"].str.contains(\"_short\")].apply(lambda q: short_answers[q[\"example_id\"].replace(\"_short\", \"\")], axis=1)\n",
    "\n",
    "sample_submission.loc[sample_submission[\"example_id\"].str.contains(\"_long\"), \"PredictionString\"] = long_prediction_strings\n",
    "sample_submission.loc[sample_submission[\"example_id\"].str.contains(\"_short\"), \"PredictionString\"] = short_prediction_strings\n"
   ]
  },
  {
   "cell_type": "code",
   "execution_count": 0,
   "metadata": {
    "trusted": true,
    "id": "1uZw0oZevSQP",
    "colab_type": "code",
    "colab": {}
   },
   "outputs": [],
   "source": [
    "sample_submission.to_csv('submission.csv', index=False)"
   ]
  },
  {
   "cell_type": "code",
   "execution_count": 0,
   "metadata": {
    "trusted": true,
    "id": "0J6adGnuvSQR",
    "colab_type": "code",
    "colab": {}
   },
   "outputs": [],
   "source": [
    "sample_submission"
   ]
  },
  {
   "cell_type": "code",
   "execution_count": 0,
   "metadata": {
    "trusted": true,
    "id": "5frC9NtuvSQY",
    "colab_type": "code",
    "colab": {}
   },
   "outputs": [],
   "source": [
    "sample_submission[sample_submission['PredictionString']==''].count()"
   ]
  },
  {
   "cell_type": "code",
   "execution_count": 0,
   "metadata": {
    "trusted": true,
    "id": "pv8ZB3H4vSQe",
    "colab_type": "code",
    "colab": {}
   },
   "outputs": [],
   "source": [
    "sample_submission[sample_submission['PredictionString']=='YES'].count()"
   ]
  },
  {
   "cell_type": "code",
   "execution_count": 0,
   "metadata": {
    "trusted": true,
    "id": "melCsBzDvSQm",
    "colab_type": "code",
    "colab": {}
   },
   "outputs": [],
   "source": [
    "sample_submission[sample_submission['PredictionString']=='NO'].count()"
   ]
  }
 ],
 "metadata": {
  "kernelspec": {
   "display_name": "Python 3",
   "language": "python",
   "name": "python3"
  },
  "language_info": {
   "codemirror_mode": {
    "name": "ipython",
    "version": 3
   },
   "file_extension": ".py",
   "mimetype": "text/x-python",
   "name": "python",
   "nbconvert_exporter": "python",
   "pygments_lexer": "ipython3",
   "version": "3.6.5"
  },
  "colab": {
   "name": "BERT BEST Solution .ipynb",
   "provenance": []
  }
 },
 "nbformat": 4,
 "nbformat_minor": 0
}
